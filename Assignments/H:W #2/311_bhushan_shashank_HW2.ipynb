{
 "cells": [
  {
   "cell_type": "markdown",
   "id": "5d02011b-8dac-4e38-8260-4bb9d1299c55",
   "metadata": {},
   "source": [
    "## 1. \n",
    "Load the dataset in the file named winequality_white.csv and produce at least one\n",
    "table and one graph that summarize the dataset statistics. Set up a classification\n",
    "problem: predicting the quality value (a single variable with seven classes labeled\n",
    "3, 4, 5, …, 9) based on the values of all the other variables in the file (acidity,\n",
    "alcohol, pH, etc.) and split the dataset into separate training and test sets in a\n",
    "reproducible way;"
   ]
  },
  {
   "cell_type": "code",
   "execution_count": 1,
   "id": "e43f1bb7-c0e6-45e3-83a4-1b305999c9d4",
   "metadata": {},
   "outputs": [],
   "source": [
    "# Import necessary libraries\n",
    "import pandas as pd\n",
    "import numpy as np\n",
    "import matplotlib.pyplot as plt\n",
    "import seaborn as sns\n",
    "from sklearn.model_selection import train_test_split, cross_val_score, GridSearchCV\n",
    "from sklearn.tree import DecisionTreeClassifier\n",
    "from sklearn.ensemble import RandomForestClassifier\n",
    "from sklearn.svm import SVC\n",
    "from sklearn.dummy import DummyClassifier\n",
    "from sklearn.pipeline import make_pipeline\n",
    "from sklearn.preprocessing import StandardScaler\n",
    "from sklearn.decomposition import PCA\n",
    "from sklearn.metrics import accuracy_score, classification_report, confusion_matrix"
   ]
  },
  {
   "cell_type": "code",
   "execution_count": 2,
   "id": "0a891a6a-c34c-42c2-b69c-9e77ef3e43c9",
   "metadata": {},
   "outputs": [
    {
     "name": "stdout",
     "output_type": "stream",
     "text": [
      "   fixed acidity  volatile acidity  citric acid  residual sugar  chlorides  \\\n",
      "0            7.0              0.27         0.36            20.7      0.045   \n",
      "1            6.3              0.30         0.34             1.6      0.049   \n",
      "2            8.1              0.28         0.40             6.9      0.050   \n",
      "3            7.2              0.23         0.32             8.5      0.058   \n",
      "4            7.2              0.23         0.32             8.5      0.058   \n",
      "\n",
      "   free sulfur dioxide  total sulfur dioxide  density    pH  sulphates  \\\n",
      "0                 45.0                 170.0   1.0010  3.00       0.45   \n",
      "1                 14.0                 132.0   0.9940  3.30       0.49   \n",
      "2                 30.0                  97.0   0.9951  3.26       0.44   \n",
      "3                 47.0                 186.0   0.9956  3.19       0.40   \n",
      "4                 47.0                 186.0   0.9956  3.19       0.40   \n",
      "\n",
      "   alcohol  quality  \n",
      "0      8.8        6  \n",
      "1      9.5        6  \n",
      "2     10.1        6  \n",
      "3      9.9        6  \n",
      "4      9.9        6  \n",
      "       fixed acidity  volatile acidity  citric acid  residual sugar  \\\n",
      "count    4898.000000       4898.000000  4898.000000     4898.000000   \n",
      "mean        6.854788          0.278241     0.334192        6.391415   \n",
      "std         0.843868          0.100795     0.121020        5.072058   \n",
      "min         3.800000          0.080000     0.000000        0.600000   \n",
      "25%         6.300000          0.210000     0.270000        1.700000   \n",
      "50%         6.800000          0.260000     0.320000        5.200000   \n",
      "75%         7.300000          0.320000     0.390000        9.900000   \n",
      "max        14.200000          1.100000     1.660000       65.800000   \n",
      "\n",
      "         chlorides  free sulfur dioxide  total sulfur dioxide      density  \\\n",
      "count  4898.000000          4898.000000           4898.000000  4898.000000   \n",
      "mean      0.045772            35.308085            138.360657     0.994027   \n",
      "std       0.021848            17.007137             42.498065     0.002991   \n",
      "min       0.009000             2.000000              9.000000     0.987110   \n",
      "25%       0.036000            23.000000            108.000000     0.991723   \n",
      "50%       0.043000            34.000000            134.000000     0.993740   \n",
      "75%       0.050000            46.000000            167.000000     0.996100   \n",
      "max       0.346000           289.000000            440.000000     1.038980   \n",
      "\n",
      "                pH    sulphates      alcohol      quality  \n",
      "count  4898.000000  4898.000000  4898.000000  4898.000000  \n",
      "mean      3.188267     0.489847    10.514267     5.877909  \n",
      "std       0.151001     0.114126     1.230621     0.885639  \n",
      "min       2.720000     0.220000     8.000000     3.000000  \n",
      "25%       3.090000     0.410000     9.500000     5.000000  \n",
      "50%       3.180000     0.470000    10.400000     6.000000  \n",
      "75%       3.280000     0.550000    11.400000     6.000000  \n",
      "max       3.820000     1.080000    14.200000     9.000000  \n"
     ]
    }
   ],
   "source": [
    "# Load the dataset\n",
    "df = pd.read_csv('winequality-white.csv', sep=',') # Update this if the file has a different delimiter\n",
    "\n",
    "# Display first few rows of the dataset\n",
    "print(df.head())\n",
    "\n",
    "# Display dataset statistics\n",
    "print(df.describe())"
   ]
  },
  {
   "cell_type": "code",
   "execution_count": 3,
   "id": "5987800a-cd6d-4e1c-a846-565b46c5b7cf",
   "metadata": {},
   "outputs": [
    {
     "data": {
      "image/png": "[encoded data removed]",
      "text/plain": [
       "<Figure size 720x432 with 1 Axes>"
      ]
     },
     "metadata": {
      "needs_background": "light"
     },
     "output_type": "display_data"
    }
   ],
   "source": [
    "# Plot histogram of the 'quality' column\n",
    "plt.figure(figsize=(10, 6))\n",
    "sns.countplot(x='quality', data=df)\n",
    "plt.title('Quality Distribution')\n",
    "plt.xlabel('Quality')\n",
    "plt.ylabel('Frequency')\n",
    "plt.show()"
   ]
  },
  {
   "cell_type": "code",
   "execution_count": 4,
   "id": "ed90f311-db4c-41b3-a01b-77d9816c0d86",
   "metadata": {},
   "outputs": [],
   "source": [
    "# Set up classification problem: predicting the quality value\n",
    "X = df.drop('quality', axis=1)\n",
    "y = df['quality']\n",
    "\n",
    "# Split the dataset into training and test sets in a reproducible way\n",
    "X_train, X_test, y_train, y_test = train_test_split(X, y, test_size=0.2, random_state=42)"
   ]
  },
  {
   "cell_type": "markdown",
   "id": "f2aa299f-bf54-4e7b-b1c9-ac8697112b1e",
   "metadata": {},
   "source": [
    "## 2. \n",
    "Train two models to solve this classification problem: one based on Decision Trees\n",
    "(e.g., DecisionTreeClassifier, RandomForestClassifier) and one based on SVMs\n",
    "(e.g., an SVC with your choice of kernel). Use the training set you created in part\n",
    "1 to cross-validate the performance of each model. Report statistics for the scoring\n",
    "method of your choice (e.g., accuracy, weighted precision, macro recall, f1 score); "
   ]
  },
  {
   "cell_type": "code",
   "execution_count": 5,
   "id": "d75ec0e4-3fb4-4c1f-b0bc-c962ae67179d",
   "metadata": {},
   "outputs": [
    {
     "name": "stdout",
     "output_type": "stream",
     "text": [
      "Decision Tree CV Accuracy: 0.5821806500377928\n",
      "Random Forest CV Accuracy: 0.6602822738290719\n",
      "SVM CV Accuracy: 0.45073859045533915\n"
     ]
    }
   ],
   "source": [
    "# Train Decision Tree model\n",
    "dt_classifier = DecisionTreeClassifier(random_state=42)\n",
    "dt_classifier.fit(X_train, y_train)\n",
    "dt_cv_scores = cross_val_score(dt_classifier, X_train, y_train, cv=5, scoring='accuracy')\n",
    "print(f'Decision Tree CV Accuracy: {np.mean(dt_cv_scores)}')\n",
    "\n",
    "# Train Random Forest model\n",
    "rf_classifier = RandomForestClassifier(random_state=42)\n",
    "rf_classifier.fit(X_train, y_train)\n",
    "rf_cv_scores = cross_val_score(rf_classifier, X_train, y_train, cv=5, scoring='accuracy')\n",
    "print(f'Random Forest CV Accuracy: {np.mean(rf_cv_scores)}')\n",
    "\n",
    "# Train SVM model\n",
    "svm_classifier = SVC(random_state=42)\n",
    "svm_classifier.fit(X_train, y_train)\n",
    "svm_cv_scores = cross_val_score(svm_classifier, X_train, y_train, cv=5, scoring='accuracy')\n",
    "print(f'SVM CV Accuracy: {np.mean(svm_cv_scores)}')"
   ]
  },
  {
   "cell_type": "markdown",
   "id": "80334414-3391-48ec-89aa-39f9547ca1c9",
   "metadata": {},
   "source": [
    "## 3. \n",
    "Use GridSearchCV() and the training dataset from part 1 to tune the Decision Tree\n",
    "family model from part 2; compare its performance when changing at least two\n",
    "different hyperparameters (e.g., tree depth) across a range of values."
   ]
  },
  {
   "cell_type": "code",
   "execution_count": 6,
   "id": "9ca402b0-e4b8-4c0a-8944-1e5123ef8cb6",
   "metadata": {},
   "outputs": [
    {
     "name": "stdout",
     "output_type": "stream",
     "text": [
      "Best parameters for Decision Tree: {'max_depth': None, 'min_samples_split': 2}\n",
      "Best CV Accuracy for Decision Tree: 0.5821806500377928\n"
     ]
    }
   ],
   "source": [
    "# Hyperparameter tuning using GridSearchCV for Decision Tree\n",
    "param_grid = {\n",
    "    'max_depth': [None, 10, 20, 30],\n",
    "    'min_samples_split': [2, 10, 20]\n",
    "}\n",
    "grid_search = GridSearchCV(dt_classifier, param_grid, cv=5, scoring='accuracy')\n",
    "grid_search.fit(X_train, y_train)\n",
    "print(f'Best parameters for Decision Tree: {grid_search.best_params_}')\n",
    "print(f'Best CV Accuracy for Decision Tree: {grid_search.best_score_}')\n"
   ]
  },
  {
   "cell_type": "markdown",
   "id": "159a91b4-9d03-4422-ad99-b741ea03f7bc",
   "metadata": {},
   "source": [
    "## 4. \n",
    "Use the make_pipeline() method and the training dataset from part 1 to study and\n",
    "describe the impact of data transformations on the performance of the SVM family\n",
    "model from part 2. You can try dimension reduction (e.g., using different\n",
    "n_component values for PCA) and/or data scaling (e.g., MinMaxScaler). "
   ]
  },
  {
   "cell_type": "code",
   "execution_count": 7,
   "id": "9f34c744-2b84-4ad1-bc9d-e07cfb98dfde",
   "metadata": {},
   "outputs": [
    {
     "name": "stdout",
     "output_type": "stream",
     "text": [
      "SVM with PCA and scaling CV Accuracy: 0.5612586988818516\n"
     ]
    }
   ],
   "source": [
    "# Study the impact of data transformations on SVM performance using make_pipeline\n",
    "pipeline = make_pipeline(StandardScaler(), PCA(n_components=8), SVC(random_state=42))\n",
    "pipeline.fit(X_train, y_train)\n",
    "pipeline_cv_scores = cross_val_score(pipeline, X_train, y_train, cv=5, scoring='accuracy')\n",
    "print(f'SVM with PCA and scaling CV Accuracy: {np.mean(pipeline_cv_scores)}')"
   ]
  },
  {
   "cell_type": "markdown",
   "id": "f3c553ac-87a6-4c46-b781-553dd2be938b",
   "metadata": {},
   "source": [
    "## 5. \n",
    "Train the DummyClassifier() on your training set. Use your test set to compare the\n",
    "performance of this DummyClassifier() and the best model versions from parts 3\n",
    "and 4. Discuss your overall results. "
   ]
  },
  {
   "cell_type": "code",
   "execution_count": 8,
   "id": "0097df7c-b1d7-49c1-9ba2-4df2f81736dc",
   "metadata": {},
   "outputs": [
    {
     "name": "stdout",
     "output_type": "stream",
     "text": [
      "Dummy Classifier CV Accuracy: 0.4507402194594313\n"
     ]
    }
   ],
   "source": [
    "# Train DummyClassifier\n",
    "dummy_classifier = DummyClassifier(strategy='most_frequent', random_state=42)\n",
    "dummy_classifier.fit(X_train, y_train)\n",
    "dummy_cv_scores = cross_val_score(dummy_classifier, X_train, y_train, cv=5, scoring='accuracy')\n",
    "print(f'Dummy Classifier CV Accuracy: {np.mean(dummy_cv_scores)}')"
   ]
  },
  {
   "cell_type": "code",
   "execution_count": 9,
   "id": "49635267-b9c8-40d3-aeb2-d1c21f25f9f4",
   "metadata": {},
   "outputs": [],
   "source": [
    "# Evaluate models on the test set\n",
    "best_dt = grid_search.best_estimator_\n",
    "best_dt_pred = best_dt.predict(X_test)\n",
    "pipeline_pred = pipeline.predict(X_test)\n",
    "dummy_pred = dummy_classifier.predict(X_test)"
   ]
  },
  {
   "cell_type": "code",
   "execution_count": 10,
   "id": "8780b2cd-faf3-4f69-8e17-87e6a4ee8e84",
   "metadata": {},
   "outputs": [
    {
     "name": "stdout",
     "output_type": "stream",
     "text": [
      "Decision Tree Test Accuracy: 0.6061224489795919\n",
      "SVM with PCA and Scaling Test Accuracy: 0.5469387755102041\n",
      "Dummy Classifier Test Accuracy: 0.44081632653061226\n",
      "\n",
      "Decision Tree Classification Report:\n",
      "               precision    recall  f1-score   support\n",
      "\n",
      "           3       0.00      0.00      0.00         5\n",
      "           4       0.24      0.28      0.26        25\n",
      "           5       0.66      0.64      0.65       291\n",
      "           6       0.64      0.63      0.63       432\n",
      "           7       0.61      0.59      0.60       192\n",
      "           8       0.31      0.49      0.38        35\n",
      "           9       0.00      0.00      0.00         0\n",
      "\n",
      "    accuracy                           0.61       980\n",
      "   macro avg       0.35      0.37      0.36       980\n",
      "weighted avg       0.61      0.61      0.61       980\n",
      "\n",
      "\n",
      "SVM with PCA and Scaling Classification Report:\n",
      "               precision    recall  f1-score   support\n",
      "\n",
      "           3       0.00      0.00      0.00         5\n",
      "           4       0.50      0.08      0.14        25\n",
      "           5       0.62      0.54      0.58       291\n",
      "           6       0.52      0.79      0.62       432\n",
      "           7       0.57      0.20      0.29       192\n",
      "           8       0.00      0.00      0.00        35\n",
      "\n",
      "    accuracy                           0.55       980\n",
      "   macro avg       0.37      0.27      0.27       980\n",
      "weighted avg       0.54      0.55      0.51       980\n",
      "\n",
      "\n",
      "Dummy Classifier Classification Report:\n",
      "               precision    recall  f1-score   support\n",
      "\n",
      "           3       0.00      0.00      0.00         5\n",
      "           4       0.00      0.00      0.00        25\n",
      "           5       0.00      0.00      0.00       291\n",
      "           6       0.44      1.00      0.61       432\n",
      "           7       0.00      0.00      0.00       192\n",
      "           8       0.00      0.00      0.00        35\n",
      "\n",
      "    accuracy                           0.44       980\n",
      "   macro avg       0.07      0.17      0.10       980\n",
      "weighted avg       0.19      0.44      0.27       980\n",
      "\n"
     ]
    },
    {
     "name": "stderr",
     "output_type": "stream",
     "text": [
      "/project/dsi/apps/anaconda3/python-3.10/lib/python3.10/site-packages/sklearn/metrics/_classification.py:1308: UndefinedMetricWarning: Recall and F-score are ill-defined and being set to 0.0 in labels with no true samples. Use `zero_division` parameter to control this behavior.\n",
      "  _warn_prf(average, modifier, msg_start, len(result))\n",
      "/project/dsi/apps/anaconda3/python-3.10/lib/python3.10/site-packages/sklearn/metrics/_classification.py:1308: UndefinedMetricWarning: Recall and F-score are ill-defined and being set to 0.0 in labels with no true samples. Use `zero_division` parameter to control this behavior.\n",
      "  _warn_prf(average, modifier, msg_start, len(result))\n",
      "/project/dsi/apps/anaconda3/python-3.10/lib/python3.10/site-packages/sklearn/metrics/_classification.py:1308: UndefinedMetricWarning: Recall and F-score are ill-defined and being set to 0.0 in labels with no true samples. Use `zero_division` parameter to control this behavior.\n",
      "  _warn_prf(average, modifier, msg_start, len(result))\n",
      "/project/dsi/apps/anaconda3/python-3.10/lib/python3.10/site-packages/sklearn/metrics/_classification.py:1308: UndefinedMetricWarning: Precision and F-score are ill-defined and being set to 0.0 in labels with no predicted samples. Use `zero_division` parameter to control this behavior.\n",
      "  _warn_prf(average, modifier, msg_start, len(result))\n",
      "/project/dsi/apps/anaconda3/python-3.10/lib/python3.10/site-packages/sklearn/metrics/_classification.py:1308: UndefinedMetricWarning: Precision and F-score are ill-defined and being set to 0.0 in labels with no predicted samples. Use `zero_division` parameter to control this behavior.\n",
      "  _warn_prf(average, modifier, msg_start, len(result))\n",
      "/project/dsi/apps/anaconda3/python-3.10/lib/python3.10/site-packages/sklearn/metrics/_classification.py:1308: UndefinedMetricWarning: Precision and F-score are ill-defined and being set to 0.0 in labels with no predicted samples. Use `zero_division` parameter to control this behavior.\n",
      "  _warn_prf(average, modifier, msg_start, len(result))\n",
      "/project/dsi/apps/anaconda3/python-3.10/lib/python3.10/site-packages/sklearn/metrics/_classification.py:1308: UndefinedMetricWarning: Precision and F-score are ill-defined and being set to 0.0 in labels with no predicted samples. Use `zero_division` parameter to control this behavior.\n",
      "  _warn_prf(average, modifier, msg_start, len(result))\n",
      "/project/dsi/apps/anaconda3/python-3.10/lib/python3.10/site-packages/sklearn/metrics/_classification.py:1308: UndefinedMetricWarning: Precision and F-score are ill-defined and being set to 0.0 in labels with no predicted samples. Use `zero_division` parameter to control this behavior.\n",
      "  _warn_prf(average, modifier, msg_start, len(result))\n",
      "/project/dsi/apps/anaconda3/python-3.10/lib/python3.10/site-packages/sklearn/metrics/_classification.py:1308: UndefinedMetricWarning: Precision and F-score are ill-defined and being set to 0.0 in labels with no predicted samples. Use `zero_division` parameter to control this behavior.\n",
      "  _warn_prf(average, modifier, msg_start, len(result))\n"
     ]
    }
   ],
   "source": [
    "print(\"Decision Tree Test Accuracy:\", accuracy_score(y_test, best_dt_pred))\n",
    "print(\"SVM with PCA and Scaling Test Accuracy:\", accuracy_score(y_test, pipeline_pred))\n",
    "print(\"Dummy Classifier Test Accuracy:\", accuracy_score(y_test, dummy_pred))\n",
    "\n",
    "print(\"\\nDecision Tree Classification Report:\\n\", classification_report(y_test, best_dt_pred))\n",
    "print(\"\\nSVM with PCA and Scaling Classification Report:\\n\", classification_report(y_test, pipeline_pred))\n",
    "print(\"\\nDummy Classifier Classification Report:\\n\", classification_report(y_test, dummy_pred))"
   ]
  },
  {
   "cell_type": "markdown",
   "id": "54519167-1127-43cf-bd9f-2ec18287a696",
   "metadata": {},
   "source": [
    "# Discussion\n",
    "\n",
    "## Decision Tree Model\n",
    "The Decision Tree classifier achieved a test accuracy of approximately 60.6%. The model's precision and recall vary significantly across different classes. Classes 5 and 6, being the most frequent, have relatively high precision and recall, with F1-scores around 0.65 and 0.63, respectively. Classes 3, 7, and 8 perform worse, with low precision and recall. The model's ability to handle the majority class well is evident, but it struggles with less frequent classes, indicating a need for improvement in handling class imbalance.\n",
    "\n",
    "## SVM with PCA and Scaling\n",
    "The SVM model with PCA and scaling showed a test accuracy of 54.7%. This model's performance is slightly below the Decision Tree. It has decent precision and recall for class 6, but other classes, especially 4 and 7, have poor performance. The macro and weighted averages of precision, recall, and F1-score are lower compared to the Decision Tree, highlighting that while the model captures some patterns, it fails to generalize well across all classes, especially the minority ones.\n",
    "\n",
    "## Dummy Classifier\n",
    "The Dummy Classifier's test accuracy is 44.1%, serving as a baseline model. It only predicts the most frequent class (class 6) with 100% recall, but fails to capture any information from the other classes, resulting in zero precision and recall for them. The macro average F1-score is very low, indicating that this model is not useful for predicting the wine quality, as it merely guesses the most common class without any meaningful insights.\n",
    "\n",
    "## Summary\n",
    "In summary, the Decision Tree outperforms the SVM with PCA and scaling and the Dummy Classifier. The Decision Tree's accuracy is significantly higher, but both models struggle with less frequent classes. The Dummy Classifier highlights the importance of model sophistication, as it merely predicts the majority class without learning any patterns. Further improvements in handling class imbalance and tuning model parameters could enhance performance across all classes."
   ]
  },
  {
   "cell_type": "code",
   "execution_count": null,
   "id": "491dd423-84e4-4345-a008-38d91a34c671",
   "metadata": {},
   "outputs": [],
   "source": []
  }
 ],
 "metadata": {
  "kernelspec": {
   "display_name": "Python 3.10",
   "language": "python",
   "name": "python3.10"
  },
  "language_info": {
   "codemirror_mode": {
    "name": "ipython",
    "version": 3
   },
   "file_extension": ".py",
   "mimetype": "text/x-python",
   "name": "python",
   "nbconvert_exporter": "python",
   "pygments_lexer": "ipython3",
   "version": "3.10.4"
  }
 },
 "nbformat": 4,
 "nbformat_minor": 5
}
