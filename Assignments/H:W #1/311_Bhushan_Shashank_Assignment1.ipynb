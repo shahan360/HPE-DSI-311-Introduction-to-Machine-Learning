{
 "cells": [
  {
   "cell_type": "markdown",
   "id": "66e14d59-0c31-4bee-833d-eac120ede432",
   "metadata": {},
   "source": [
    "# 1. Load the dataset in the file named BDOShoham.csv and produce at least one table and one graph that summarize the dataset statistics; "
   ]
  },
  {
   "cell_type": "code",
   "execution_count": 1,
   "id": "6bab932c-f051-4599-ace9-e388d01ff999",
   "metadata": {},
   "outputs": [
    {
     "name": "stdout",
     "output_type": "stream",
     "text": [
      "First few rows of the dataset:\n"
     ]
    },
    {
     "data": {
      "text/html": [
       "<div>\n",
       "<style scoped>\n",
       "    .dataframe tbody tr th:only-of-type {\n",
       "        vertical-align: middle;\n",
       "    }\n",
       "\n",
       "    .dataframe tbody tr th {\n",
       "        vertical-align: top;\n",
       "    }\n",
       "\n",
       "    .dataframe thead th {\n",
       "        text-align: right;\n",
       "    }\n",
       "</style>\n",
       "<table border=\"1\" class=\"dataframe\">\n",
       "  <thead>\n",
       "    <tr style=\"text-align: right;\">\n",
       "      <th></th>\n",
       "      <th>FlowPattern</th>\n",
       "      <th>Vsl</th>\n",
       "      <th>Vsg</th>\n",
       "      <th>VisL</th>\n",
       "      <th>VisG</th>\n",
       "      <th>DenL</th>\n",
       "      <th>DenG</th>\n",
       "      <th>ST</th>\n",
       "      <th>Ang</th>\n",
       "      <th>ID</th>\n",
       "    </tr>\n",
       "  </thead>\n",
       "  <tbody>\n",
       "    <tr>\n",
       "      <th>0</th>\n",
       "      <td>1</td>\n",
       "      <td>6.3</td>\n",
       "      <td>0.025</td>\n",
       "      <td>0.001</td>\n",
       "      <td>0.00002</td>\n",
       "      <td>1000</td>\n",
       "      <td>1.8</td>\n",
       "      <td>0.07</td>\n",
       "      <td>0.0</td>\n",
       "      <td>0.051</td>\n",
       "    </tr>\n",
       "    <tr>\n",
       "      <th>1</th>\n",
       "      <td>1</td>\n",
       "      <td>4.0</td>\n",
       "      <td>0.040</td>\n",
       "      <td>0.001</td>\n",
       "      <td>0.00002</td>\n",
       "      <td>1000</td>\n",
       "      <td>1.8</td>\n",
       "      <td>0.07</td>\n",
       "      <td>0.0</td>\n",
       "      <td>0.051</td>\n",
       "    </tr>\n",
       "    <tr>\n",
       "      <th>2</th>\n",
       "      <td>1</td>\n",
       "      <td>6.3</td>\n",
       "      <td>0.040</td>\n",
       "      <td>0.001</td>\n",
       "      <td>0.00002</td>\n",
       "      <td>1000</td>\n",
       "      <td>1.8</td>\n",
       "      <td>0.07</td>\n",
       "      <td>0.0</td>\n",
       "      <td>0.051</td>\n",
       "    </tr>\n",
       "    <tr>\n",
       "      <th>3</th>\n",
       "      <td>1</td>\n",
       "      <td>4.0</td>\n",
       "      <td>0.063</td>\n",
       "      <td>0.001</td>\n",
       "      <td>0.00002</td>\n",
       "      <td>1000</td>\n",
       "      <td>1.8</td>\n",
       "      <td>0.07</td>\n",
       "      <td>0.0</td>\n",
       "      <td>0.051</td>\n",
       "    </tr>\n",
       "    <tr>\n",
       "      <th>4</th>\n",
       "      <td>1</td>\n",
       "      <td>6.3</td>\n",
       "      <td>0.063</td>\n",
       "      <td>0.001</td>\n",
       "      <td>0.00002</td>\n",
       "      <td>1000</td>\n",
       "      <td>1.8</td>\n",
       "      <td>0.07</td>\n",
       "      <td>0.0</td>\n",
       "      <td>0.051</td>\n",
       "    </tr>\n",
       "  </tbody>\n",
       "</table>\n",
       "</div>"
      ],
      "text/plain": [
       "   FlowPattern  Vsl    Vsg   VisL     VisG  DenL  DenG    ST  Ang     ID\n",
       "0            1  6.3  0.025  0.001  0.00002  1000   1.8  0.07  0.0  0.051\n",
       "1            1  4.0  0.040  0.001  0.00002  1000   1.8  0.07  0.0  0.051\n",
       "2            1  6.3  0.040  0.001  0.00002  1000   1.8  0.07  0.0  0.051\n",
       "3            1  4.0  0.063  0.001  0.00002  1000   1.8  0.07  0.0  0.051\n",
       "4            1  6.3  0.063  0.001  0.00002  1000   1.8  0.07  0.0  0.051"
      ]
     },
     "metadata": {},
     "output_type": "display_data"
    },
    {
     "name": "stdout",
     "output_type": "stream",
     "text": [
      "\n",
      "Summary statistics of the dataset:\n"
     ]
    },
    {
     "data": {
      "text/html": [
       "<div>\n",
       "<style scoped>\n",
       "    .dataframe tbody tr th:only-of-type {\n",
       "        vertical-align: middle;\n",
       "    }\n",
       "\n",
       "    .dataframe tbody tr th {\n",
       "        vertical-align: top;\n",
       "    }\n",
       "\n",
       "    .dataframe thead th {\n",
       "        text-align: right;\n",
       "    }\n",
       "</style>\n",
       "<table border=\"1\" class=\"dataframe\">\n",
       "  <thead>\n",
       "    <tr style=\"text-align: right;\">\n",
       "      <th></th>\n",
       "      <th>FlowPattern</th>\n",
       "      <th>Vsl</th>\n",
       "      <th>Vsg</th>\n",
       "      <th>VisL</th>\n",
       "      <th>VisG</th>\n",
       "      <th>DenL</th>\n",
       "      <th>DenG</th>\n",
       "      <th>ST</th>\n",
       "      <th>Ang</th>\n",
       "      <th>ID</th>\n",
       "    </tr>\n",
       "  </thead>\n",
       "  <tbody>\n",
       "    <tr>\n",
       "      <th>count</th>\n",
       "      <td>5675.000000</td>\n",
       "      <td>5675.000000</td>\n",
       "      <td>5675.000000</td>\n",
       "      <td>5.675000e+03</td>\n",
       "      <td>5.675000e+03</td>\n",
       "      <td>5675.0</td>\n",
       "      <td>5.675000e+03</td>\n",
       "      <td>5.675000e+03</td>\n",
       "      <td>5675.000000</td>\n",
       "      <td>5675.000000</td>\n",
       "    </tr>\n",
       "    <tr>\n",
       "      <th>mean</th>\n",
       "      <td>4.059912</td>\n",
       "      <td>0.899747</td>\n",
       "      <td>6.222612</td>\n",
       "      <td>1.000000e-03</td>\n",
       "      <td>2.000000e-05</td>\n",
       "      <td>1000.0</td>\n",
       "      <td>1.800000e+00</td>\n",
       "      <td>7.000000e-02</td>\n",
       "      <td>2.727401</td>\n",
       "      <td>0.038657</td>\n",
       "    </tr>\n",
       "    <tr>\n",
       "      <th>std</th>\n",
       "      <td>1.379238</td>\n",
       "      <td>1.425159</td>\n",
       "      <td>8.699644</td>\n",
       "      <td>2.168595e-19</td>\n",
       "      <td>3.388430e-21</td>\n",
       "      <td>0.0</td>\n",
       "      <td>6.661925e-16</td>\n",
       "      <td>1.387901e-17</td>\n",
       "      <td>46.202822</td>\n",
       "      <td>0.012985</td>\n",
       "    </tr>\n",
       "    <tr>\n",
       "      <th>min</th>\n",
       "      <td>1.000000</td>\n",
       "      <td>0.001100</td>\n",
       "      <td>0.003720</td>\n",
       "      <td>1.000000e-03</td>\n",
       "      <td>2.000000e-05</td>\n",
       "      <td>1000.0</td>\n",
       "      <td>1.800000e+00</td>\n",
       "      <td>7.000000e-02</td>\n",
       "      <td>-90.000000</td>\n",
       "      <td>0.025000</td>\n",
       "    </tr>\n",
       "    <tr>\n",
       "      <th>25%</th>\n",
       "      <td>3.000000</td>\n",
       "      <td>0.016000</td>\n",
       "      <td>0.162055</td>\n",
       "      <td>1.000000e-03</td>\n",
       "      <td>2.000000e-05</td>\n",
       "      <td>1000.0</td>\n",
       "      <td>1.800000e+00</td>\n",
       "      <td>7.000000e-02</td>\n",
       "      <td>-10.000000</td>\n",
       "      <td>0.025000</td>\n",
       "    </tr>\n",
       "    <tr>\n",
       "      <th>50%</th>\n",
       "      <td>5.000000</td>\n",
       "      <td>0.250000</td>\n",
       "      <td>1.600000</td>\n",
       "      <td>1.000000e-03</td>\n",
       "      <td>2.000000e-05</td>\n",
       "      <td>1000.0</td>\n",
       "      <td>1.800000e+00</td>\n",
       "      <td>7.000000e-02</td>\n",
       "      <td>0.500000</td>\n",
       "      <td>0.051000</td>\n",
       "    </tr>\n",
       "    <tr>\n",
       "      <th>75%</th>\n",
       "      <td>5.000000</td>\n",
       "      <td>1.500000</td>\n",
       "      <td>10.000000</td>\n",
       "      <td>1.000000e-03</td>\n",
       "      <td>2.000000e-05</td>\n",
       "      <td>1000.0</td>\n",
       "      <td>1.800000e+00</td>\n",
       "      <td>7.000000e-02</td>\n",
       "      <td>20.000000</td>\n",
       "      <td>0.051000</td>\n",
       "    </tr>\n",
       "    <tr>\n",
       "      <th>max</th>\n",
       "      <td>7.000000</td>\n",
       "      <td>25.517000</td>\n",
       "      <td>42.956200</td>\n",
       "      <td>1.000000e-03</td>\n",
       "      <td>2.000000e-05</td>\n",
       "      <td>1000.0</td>\n",
       "      <td>1.800000e+00</td>\n",
       "      <td>7.000000e-02</td>\n",
       "      <td>90.000000</td>\n",
       "      <td>0.051000</td>\n",
       "    </tr>\n",
       "  </tbody>\n",
       "</table>\n",
       "</div>"
      ],
      "text/plain": [
       "       FlowPattern          Vsl          Vsg          VisL          VisG  \\\n",
       "count  5675.000000  5675.000000  5675.000000  5.675000e+03  5.675000e+03   \n",
       "mean      4.059912     0.899747     6.222612  1.000000e-03  2.000000e-05   \n",
       "std       1.379238     1.425159     8.699644  2.168595e-19  3.388430e-21   \n",
       "min       1.000000     0.001100     0.003720  1.000000e-03  2.000000e-05   \n",
       "25%       3.000000     0.016000     0.162055  1.000000e-03  2.000000e-05   \n",
       "50%       5.000000     0.250000     1.600000  1.000000e-03  2.000000e-05   \n",
       "75%       5.000000     1.500000    10.000000  1.000000e-03  2.000000e-05   \n",
       "max       7.000000    25.517000    42.956200  1.000000e-03  2.000000e-05   \n",
       "\n",
       "         DenL          DenG            ST          Ang           ID  \n",
       "count  5675.0  5.675000e+03  5.675000e+03  5675.000000  5675.000000  \n",
       "mean   1000.0  1.800000e+00  7.000000e-02     2.727401     0.038657  \n",
       "std       0.0  6.661925e-16  1.387901e-17    46.202822     0.012985  \n",
       "min    1000.0  1.800000e+00  7.000000e-02   -90.000000     0.025000  \n",
       "25%    1000.0  1.800000e+00  7.000000e-02   -10.000000     0.025000  \n",
       "50%    1000.0  1.800000e+00  7.000000e-02     0.500000     0.051000  \n",
       "75%    1000.0  1.800000e+00  7.000000e-02    20.000000     0.051000  \n",
       "max    1000.0  1.800000e+00  7.000000e-02    90.000000     0.051000  "
      ]
     },
     "metadata": {},
     "output_type": "display_data"
    },
    {
     "data": {
      "image/png": "[encoded data removed]",
      "text/plain": [
       "<Figure size 720x432 with 1 Axes>"
      ]
     },
     "metadata": {
      "needs_background": "light"
     },
     "output_type": "display_data"
    },
    {
     "data": {
      "image/png": "[encoded data removed]",
      "text/plain": [
       "<Figure size 864x576 with 2 Axes>"
      ]
     },
     "metadata": {
      "needs_background": "light"
     },
     "output_type": "display_data"
    }
   ],
   "source": [
    "# BDOShoham Analysis Notebook\n",
    "\n",
    "## Import necessary libraries\n",
    "import pandas as pd\n",
    "import matplotlib.pyplot as plt\n",
    "import seaborn as sns\n",
    "\n",
    "# Load the dataset\n",
    "file_path = 'BDOShoham.csv'\n",
    "data = pd.read_csv(file_path)\n",
    "\n",
    "# Display the first few rows of the dataset\n",
    "print(\"First few rows of the dataset:\")\n",
    "display(data.head())\n",
    "\n",
    "# Produce a table summarizing the dataset statistics\n",
    "print(\"\\nSummary statistics of the dataset:\")\n",
    "summary_stats = data.describe()\n",
    "display(summary_stats)\n",
    "\n",
    "# Produce a graph summarizing the dataset statistics\n",
    "# Example: Distribution of a specific column (assuming there is a numerical column named 'FlowPattern')\n",
    "plt.figure(figsize=(10, 6))\n",
    "sns.histplot(data['FlowPattern'], kde=True)\n",
    "plt.title('Distribution of FlowPattern')\n",
    "plt.xlabel('FlowPattern')\n",
    "plt.ylabel('Frequency')\n",
    "plt.show()\n",
    "\n",
    "# Another example: Correlation heatmap of the dataset\n",
    "plt.figure(figsize=(12, 8))\n",
    "corr_matrix = data.corr()\n",
    "sns.heatmap(corr_matrix, annot=True, cmap='coolwarm', linewidths=0.5)\n",
    "plt.title('Correlation Heatmap')\n",
    "plt.show()"
   ]
  },
  {
   "cell_type": "markdown",
   "id": "2257494b-ea34-4c8c-94c1-e578fdcf28fa",
   "metadata": {},
   "source": [
    "# 2. Set up a classification problem: predicting the FlowPattern value based on the values of the variables named Vsl, Vsg, and Ang, and split the dataset into separate training and test sets in a reproducible way; "
   ]
  },
  {
   "cell_type": "code",
   "execution_count": 2,
   "id": "9ddcab3c-3d3d-4ef2-b007-401edfeb681a",
   "metadata": {},
   "outputs": [],
   "source": [
    "from sklearn.model_selection import train_test_split, cross_val_score, cross_validate\n",
    "from sklearn.preprocessing import StandardScaler\n",
    "from sklearn.neighbors import KNeighborsClassifier\n",
    "from sklearn.linear_model import LogisticRegression\n",
    "from sklearn.metrics import classification_report, confusion_matrix, accuracy_score, precision_score, recall_score, f1_score"
   ]
  },
  {
   "cell_type": "code",
   "execution_count": 3,
   "id": "6535fe4c-e684-410b-9a68-d12995cc9df2",
   "metadata": {},
   "outputs": [
    {
     "name": "stdout",
     "output_type": "stream",
     "text": [
      "Training set shape: (4540, 3) (4540,)\n",
      "Test set shape: (1135, 3) (1135,)\n"
     ]
    }
   ],
   "source": [
    "# Select the relevant features and target variable\n",
    "features = data[['Vsl', 'Vsg', 'Ang']]\n",
    "target = data['FlowPattern']\n",
    "\n",
    "# Split the dataset into training and test sets in a reproducible way\n",
    "X_train, X_test, y_train, y_test = train_test_split(features, target, test_size=0.2, random_state=42)\n",
    "\n",
    "# Display the shapes of the training and test sets\n",
    "print(\"Training set shape:\", X_train.shape, y_train.shape)\n",
    "print(\"Test set shape:\", X_test.shape, y_test.shape)\n"
   ]
  },
  {
   "cell_type": "markdown",
   "id": "1787265d-7483-4838-8594-bcde6d9aed80",
   "metadata": {},
   "source": [
    "# 3. Train at least two models (e.g., k-NN, logistic regression) to solve this classification problem. Use the training set you created in part 2 to cross-validate the performance of each model. Report on three different scoring methods (e.g., accuracy, weighted precision, macro recall, f1 score); "
   ]
  },
  {
   "cell_type": "code",
   "execution_count": 4,
   "id": "328c3bd2-e3af-4c21-adc7-bcca0fdbb041",
   "metadata": {},
   "outputs": [
    {
     "name": "stdout",
     "output_type": "stream",
     "text": [
      "k-NN Cross-Validation Results:\n",
      "accuracy: 0.839 ± 0.005\n",
      "precision_weighted: 0.846 ± 0.003\n",
      "recall_macro: 0.813 ± 0.022\n",
      "f1_macro: 0.795 ± 0.018\n"
     ]
    }
   ],
   "source": [
    "#k-Nearest Neighbors (k-NN)\n",
    "# Initialize the k-NN classifier\n",
    "knn = KNeighborsClassifier(n_neighbors=5)\n",
    "\n",
    "# Perform cross-validation and report the scores\n",
    "scoring = ['accuracy', 'precision_weighted', 'recall_macro', 'f1_macro']\n",
    "knn_cv_results = cross_validate(knn, X_train, y_train, cv=5, scoring=scoring)\n",
    "\n",
    "print(\"k-NN Cross-Validation Results:\")\n",
    "for score in scoring:\n",
    "    print(f\"{score}: {knn_cv_results['test_' + score].mean():.3f} ± {knn_cv_results['test_' + score].std():.3f}\")"
   ]
  },
  {
   "cell_type": "code",
   "execution_count": 5,
   "id": "3f08086f-c1d6-48b8-ad87-20e1828eeb02",
   "metadata": {},
   "outputs": [
    {
     "name": "stdout",
     "output_type": "stream",
     "text": [
      "Logistic Regression Cross-Validation Results:\n",
      "accuracy: 0.665 ± 0.011\n",
      "recall_macro: 0.466 ± 0.015\n",
      "f1_macro: 0.484 ± 0.014\n"
     ]
    }
   ],
   "source": [
    "#Logistic Regression\n",
    "# Initialize the logistic regression classifier\n",
    "logreg = LogisticRegression(max_iter=1000)\n",
    "\n",
    "# Perform cross-validation and report the scores\n",
    "scoring = {'accuracy': 'accuracy', 'recall_macro': 'recall_macro', 'f1_macro': 'f1_macro'}\n",
    "logreg_cv_results = cross_validate(logreg, X_train, y_train, cv=5, scoring=scoring)\n",
    "\n",
    "\n",
    "print(\"Logistic Regression Cross-Validation Results:\")\n",
    "for score in scoring:\n",
    "    print(f\"{score}: {logreg_cv_results['test_' + score].mean():.3f} ± {logreg_cv_results['test_' + score].std():.3f}\")"
   ]
  },
  {
   "cell_type": "markdown",
   "id": "34332413-c88d-4920-bdb9-2fd414069263",
   "metadata": {},
   "source": [
    "# 4. Pick a model and a scoring method from part 3. Use cross-validation to evaluate the improvement/degradation of performance when you modify at least two hyperparameters (e.g., n_neighbors, weights, metric, penalty) as compared to the model’s default settings; "
   ]
  },
  {
   "cell_type": "code",
   "execution_count": 6,
   "id": "bdb228af-408e-48f8-bbcc-41587447e4af",
   "metadata": {},
   "outputs": [
    {
     "name": "stdout",
     "output_type": "stream",
     "text": [
      "Default k-NN Accuracy: 0.839 ± 0.005\n",
      "Modified k-NN Accuracy (n_neighbors=10, weights='distance'): 0.841 ± 0.009\n"
     ]
    }
   ],
   "source": [
    "# Initialize the k-NN classifier with default settings\n",
    "knn_default = KNeighborsClassifier()\n",
    "\n",
    "# Perform cross-validation with default settings\n",
    "default_cv_results = cross_validate(knn_default, X_train, y_train, cv=5, scoring='accuracy')\n",
    "print(\"Default k-NN Accuracy: {:.3f} ± {:.3f}\".format(default_cv_results['test_score'].mean(), default_cv_results['test_score'].std()))\n",
    "\n",
    "# Initialize the k-NN classifier with modified hyperparameters\n",
    "knn_modified = KNeighborsClassifier(n_neighbors=10, weights='distance')\n",
    "\n",
    "# Perform cross-validation with modified settings\n",
    "modified_cv_results = cross_validate(knn_modified, X_train, y_train, cv=5, scoring='accuracy')\n",
    "print(\"Modified k-NN Accuracy (n_neighbors=10, weights='distance'): {:.3f} ± {:.3f}\".format(modified_cv_results['test_score'].mean(), modified_cv_results['test_score'].std()))"
   ]
  },
  {
   "cell_type": "markdown",
   "id": "0b0e2ec2-7d69-4192-904d-8330448820a4",
   "metadata": {},
   "source": [
    "# 5. Test the performance of the best model+hyperparameters combination you found in part 4, using the test set you created in part 2. Discuss your overall results."
   ]
  },
  {
   "cell_type": "code",
   "execution_count": 7,
   "id": "8aeb2b41-a6c0-49d3-beb5-11f97323accf",
   "metadata": {},
   "outputs": [
    {
     "name": "stdout",
     "output_type": "stream",
     "text": [
      "Test Set Performance of Best k-NN Model:\n",
      "Accuracy: 0.865\n",
      "Weighted Precision: 0.872\n",
      "Macro Recall: 0.849\n",
      "F1 Score: 0.822\n",
      "\n",
      "Classification Report:\n",
      "              precision    recall  f1-score   support\n",
      "\n",
      "           1       0.75      0.83      0.79       102\n",
      "           2       0.75      0.89      0.81        27\n",
      "           3       0.84      0.85      0.85       192\n",
      "           4       0.78      0.89      0.83       200\n",
      "           5       0.94      0.87      0.91       593\n",
      "           7       0.73      0.76      0.74        21\n",
      "\n",
      "    accuracy                           0.87      1135\n",
      "   macro avg       0.80      0.85      0.82      1135\n",
      "weighted avg       0.87      0.87      0.87      1135\n",
      "\n",
      "\n",
      "Confusion Matrix:\n",
      "[[ 85   0   0   0  17   0]\n",
      " [  0  24   2   0   1   0]\n",
      " [  3   7 164  14   4   0]\n",
      " [  0   0  16 178   6   0]\n",
      " [ 22   1  14  35 515   6]\n",
      " [  3   0   0   0   2  16]]\n"
     ]
    },
    {
     "data": {
      "image/png": "[encoded data removed]",
      "text/plain": [
       "<Figure size 720x504 with 2 Axes>"
      ]
     },
     "metadata": {
      "needs_background": "light"
     },
     "output_type": "display_data"
    }
   ],
   "source": [
    "# Train the best model on the entire training set\n",
    "best_knn = KNeighborsClassifier(n_neighbors=10, weights='distance')\n",
    "best_knn.fit(X_train, y_train)\n",
    "\n",
    "# Test the model on the test set\n",
    "y_pred = best_knn.predict(X_test)\n",
    "\n",
    "# Evaluate the performance\n",
    "accuracy = accuracy_score(y_test, y_pred)\n",
    "precision = precision_score(y_test, y_pred, average='weighted')\n",
    "recall = recall_score(y_test, y_pred, average='macro')\n",
    "f1 = f1_score(y_test, y_pred, average='macro')\n",
    "\n",
    "print(\"Test Set Performance of Best k-NN Model:\")\n",
    "print(f\"Accuracy: {accuracy:.3f}\")\n",
    "print(f\"Weighted Precision: {precision:.3f}\")\n",
    "print(f\"Macro Recall: {recall:.3f}\")\n",
    "print(f\"F1 Score: {f1:.3f}\")\n",
    "\n",
    "# Display classification report\n",
    "print(\"\\nClassification Report:\")\n",
    "print(classification_report(y_test, y_pred))\n",
    "\n",
    "# Display confusion matrix\n",
    "print(\"\\nConfusion Matrix:\")\n",
    "conf_matrix = confusion_matrix(y_test, y_pred)\n",
    "print(conf_matrix)\n",
    "\n",
    "plt.figure(figsize=(10, 7))\n",
    "sns.heatmap(conf_matrix, annot=True, fmt='d', cmap='Blues', xticklabels=best_knn.classes_, yticklabels=best_knn.classes_)\n",
    "plt.xlabel('Predicted')\n",
    "plt.ylabel('Actual')\n",
    "plt.title('Confusion Matrix')\n",
    "plt.show()"
   ]
  },
  {
   "cell_type": "markdown",
   "id": "77084ad5-6b25-4c09-85e6-4e88a17b06e1",
   "metadata": {},
   "source": [
    "## Discussion\n",
    "\n",
    "The k-NN model with n_neighbors=10 and weights='distance' demonstrates strong predictive power, with high accuracy and balanced precision and recall across most classes. The model performs particularly well for the majority class (Class 5), which contributes to the overall high performance metrics. However, there is room for improvement in handling classes with fewer instances (like Class 7), where precision and recall are lower compared to the majority class.\n",
    "\n"
   ]
  },
  {
   "cell_type": "code",
   "execution_count": null,
   "id": "2cfe1473-404b-4769-9861-c3785539b678",
   "metadata": {},
   "outputs": [],
   "source": []
  }
 ],
 "metadata": {
  "kernelspec": {
   "display_name": "Python 3",
   "language": "python",
   "name": "python3"
  },
  "language_info": {
   "codemirror_mode": {
    "name": "ipython",
    "version": 3
   },
   "file_extension": ".py",
   "mimetype": "text/x-python",
   "name": "python",
   "nbconvert_exporter": "python",
   "pygments_lexer": "ipython3",
   "version": "3.6.13"
  }
 },
 "nbformat": 4,
 "nbformat_minor": 5
}
