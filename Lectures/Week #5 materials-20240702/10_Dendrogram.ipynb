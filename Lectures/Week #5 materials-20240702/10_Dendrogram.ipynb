{
 "cells": [
  {
   "cell_type": "code",
   "execution_count": null,
   "metadata": {},
   "outputs": [],
   "source": [
    "import numpy as np\n",
    "\n",
    "import matplotlib.pyplot as plt\n",
    "\n",
    "from sklearn.datasets import make_blobs\n",
    "\n",
    "from sklearn.cluster import AgglomerativeClustering\n",
    "from scipy.cluster.hierarchy import dendrogram, linkage  "
   ]
  },
  {
   "cell_type": "code",
   "execution_count": null,
   "metadata": {},
   "outputs": [],
   "source": [
    "seed = 1\n",
    "X, _ = make_blobs(n_samples=300, centers=5, cluster_std=.8, random_state=seed)\n",
    "plt.scatter(X[:,0], X[:,1])\n",
    "plt.show()"
   ]
  },
  {
   "cell_type": "code",
   "execution_count": null,
   "metadata": {},
   "outputs": [],
   "source": [
    "clusters = linkage(X, method=\"complete\")\n",
    "\n",
    "plt.figure(figsize=(20,6))\n",
    "tree = dendrogram(clusters, \n",
    "                  orientation=\"top\",\n",
    "                  distance_sort='descending',\n",
    "                  show_leaf_counts=True)\n",
    "plt.ylabel('Euclidean Distance');"
   ]
  },
  {
   "cell_type": "code",
   "execution_count": null,
   "metadata": {},
   "outputs": [],
   "source": [
    "from scipy.spatial.distance import pdist, squareform\n",
    "\n",
    "data_dist = pdist(X)\n",
    "# Compute and plot first dendrogram.\n",
    "fig = plt.figure(figsize=(8,8))\n",
    "# x ywidth height\n",
    "ax1 = fig.add_axes([0.05,0.1,0.2,0.6])\n",
    "Y = linkage(data_dist, method='single')\n",
    "Z1 = dendrogram(Y, orientation='right') # adding/removing the axes\n",
    "ax1.set_xticks([])\n",
    "\n",
    "# Compute and plot second dendrogram.\n",
    "ax2 = fig.add_axes([0.3,0.71,0.6,0.2])\n",
    "Z2 = dendrogram(Y)\n",
    "ax2.set_xticks([])\n",
    "ax2.set_yticks([])\n",
    "\n",
    "#Compute and plot the heatmap\n",
    "axmatrix = fig.add_axes([0.3,0.1,0.6,0.6])\n",
    "idx1 = Z1['leaves']\n",
    "idx2 = Z2['leaves']\n",
    "D = squareform(data_dist)\n",
    "D = D[idx1,:]\n",
    "D = D[:,idx2]\n",
    "im = axmatrix.matshow(D, aspect='auto', origin='lower', cmap=plt.cm.YlGnBu)\n",
    "axmatrix.set_xticks([])\n",
    "axmatrix.set_yticks([])\n",
    "\n",
    "# Plot colorbar.\n",
    "axcolor = fig.add_axes([0.91,0.1,0.02,0.6])\n",
    "plt.colorbar(im, cax=axcolor)\n",
    "plt.show()"
   ]
  }
 ],
 "metadata": {
  "kernelspec": {
   "display_name": "Python 3.8",
   "language": "python",
   "name": "python3.8"
  },
  "language_info": {
   "codemirror_mode": {
    "name": "ipython",
    "version": 3
   },
   "file_extension": ".py",
   "mimetype": "text/x-python",
   "name": "python",
   "nbconvert_exporter": "python",
   "pygments_lexer": "ipython3",
   "version": "3.8.13"
  }
 },
 "nbformat": 4,
 "nbformat_minor": 4
}
