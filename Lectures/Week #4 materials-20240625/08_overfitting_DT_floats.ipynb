{
 "cells": [
  {
   "cell_type": "code",
   "execution_count": null,
   "metadata": {},
   "outputs": [],
   "source": [
    "# Import libraries\n",
    "\n",
    "import pandas # https://pandas.pydata.org/\n",
    "\n",
    "from sklearn import model_selection # for model comparisons\n",
    "\n",
    "import matplotlib.pyplot as pl  # https://matplotlib.org/\n",
    "\n",
    "# algorithms\n",
    "from sklearn import tree\n",
    "from sklearn.tree import DecisionTreeClassifier\n",
    "from sklearn.ensemble import RandomForestClassifier"
   ]
  },
  {
   "cell_type": "code",
   "execution_count": null,
   "metadata": {},
   "outputs": [],
   "source": [
    "# Let's set up our standard example problem: \n",
    "# Can we predict 'callSign' using these three features:  'Depth', 'Temperature', 'Salinity' ?\n",
    "\n",
    "# Load the data\n",
    "print('Loading data from file ...')  \n",
    "dataset = pandas.read_csv('floats.csv')\n",
    "print('Removing rows with missing data ...')  \n",
    "dataset = dataset.dropna()\n",
    "print('Reading list of problem variables X and y...')\n",
    "X_name = [ 'Depth', 'Temperature', 'Salinity' ] \n",
    "y_name = 'callSign'\n",
    "X = dataset[X_name]   \n",
    "y = dataset[y_name]   \n",
    "\n",
    "# setting the seed allows for repeatability\n",
    "seed = 42 \n",
    "\n",
    "print('Partitioning data into parts: formative (for development) and summative (for testing) ...')\n",
    "test_size = 0.20   # means 20 percent\n",
    "X_train, X_test, y_train, y_test = model_selection.train_test_split(X, y, test_size=test_size, random_state=seed)\n",
    "\n",
    "print('done \\n')"
   ]
  },
  {
   "cell_type": "code",
   "execution_count": null,
   "metadata": {},
   "outputs": [],
   "source": [
    "# Now it is time to train some models on the data and estimate their accuracy on unseen data.\n",
    "\n",
    "training_accuracy = []\n",
    "test_accuracy = []\n",
    "\n",
    "max_dep = range(1,25) # compare performance for increasing depths\n",
    "\n",
    "for md in max_dep:\n",
    "    tree = DecisionTreeClassifier( max_depth=md,random_state=seed )\n",
    "    tree.fit( X_train,y_train )\n",
    "    training_accuracy.append( tree.score(X_train, y_train) )\n",
    "    test_accuracy.append( tree.score(X_test, y_test) )\n",
    " \n",
    "pl.plot( max_dep,training_accuracy, label='Accuracy on the training set' )\n",
    "pl.plot( max_dep,test_accuracy, label='Accuracy on the test set' )\n",
    "pl.ylabel('Accuracy')\n",
    "pl.xlabel('Max Depth')\n",
    "pl.legend()\n",
    "pl.show()"
   ]
  },
  {
   "cell_type": "code",
   "execution_count": null,
   "metadata": {},
   "outputs": [],
   "source": [
    "training_accuracy = []\n",
    "test_accuracy = []\n",
    "\n",
    "max_dep = range(1,25)\n",
    "\n",
    "for md in max_dep:\n",
    "    tree = RandomForestClassifier( max_depth=md,random_state=seed)\n",
    "    tree.fit( X_train,y_train )\n",
    "    training_accuracy.append( tree.score(X_train, y_train) )\n",
    "    test_accuracy.append( tree.score(X_test, y_test) )\n",
    " \n",
    "pl.plot( max_dep,training_accuracy, label='Accuracy of the training set' )\n",
    "pl.plot( max_dep,test_accuracy, label='Accuracy of the test set' )\n",
    "pl.ylabel('Accuracy')\n",
    "pl.xlabel('Max Depth')\n",
    "pl.legend()\n",
    "pl.show()"
   ]
  },
  {
   "cell_type": "code",
   "execution_count": null,
   "metadata": {},
   "outputs": [],
   "source": []
  }
 ],
 "metadata": {
  "kernelspec": {
   "display_name": "Python 3.8",
   "language": "python",
   "name": "python3.8"
  },
  "language_info": {
   "codemirror_mode": {
    "name": "ipython",
    "version": 3
   },
   "file_extension": ".py",
   "mimetype": "text/x-python",
   "name": "python",
   "nbconvert_exporter": "python",
   "pygments_lexer": "ipython3",
   "version": "3.8.13"
  },
  "toc": {
   "base_numbering": 1,
   "nav_menu": {},
   "number_sections": true,
   "sideBar": true,
   "skip_h1_title": false,
   "title_cell": "Table of Contents",
   "title_sidebar": "Contents",
   "toc_cell": false,
   "toc_position": {},
   "toc_section_display": true,
   "toc_window_display": false
  }
 },
 "nbformat": 4,
 "nbformat_minor": 4
}
