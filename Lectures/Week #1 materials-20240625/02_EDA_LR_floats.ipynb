{
 "cells": [
  {
   "cell_type": "code",
   "execution_count": null,
   "metadata": {},
   "outputs": [],
   "source": [
    "# Second example - slightly more complicated this time"
   ]
  },
  {
   "cell_type": "code",
   "execution_count": null,
   "metadata": {},
   "outputs": [],
   "source": [
    "# Pandas for data handling\n",
    "import pandas # https://pandas.pydata.org/\n",
    "from pandas.plotting import scatter_matrix\n",
    "\n",
    "print('Loading data from file ...')  # Now let's load the data\n",
    "dataset = pandas.read_csv('floats.csv') # default is header=infer, change if column names are not in first row\n",
    "print('done \\n')\n",
    "\n",
    "print('Removing rows with missing data ...')  # Make things simple\n",
    "dataset = dataset.dropna()  # default is to drop any row that contains at least one missing value\n",
    "print('done \\n')"
   ]
  },
  {
   "cell_type": "code",
   "execution_count": null,
   "metadata": {},
   "outputs": [],
   "source": [
    "# Ok, what does the data look like?\n",
    "\n",
    "# Display for pretty tables\n",
    "from IPython.display import display\n",
    "\n",
    "print('Sample rows from the dataset (top and bottom five):')  # Spot checks\n",
    "display(dataset.head(5))\n",
    "display(dataset.tail(5))\n",
    "print('\\n')"
   ]
  },
  {
   "cell_type": "code",
   "execution_count": null,
   "metadata": {},
   "outputs": [],
   "source": [
    "# Let's look at a numerical summary table\n",
    "\n",
    "print('Summary of the dataset - Univariate statistics')   \n",
    "display(dataset.describe(include='all'))\n",
    "print('\\n')"
   ]
  },
  {
   "cell_type": "code",
   "execution_count": null,
   "metadata": {},
   "outputs": [],
   "source": [
    "# Let's set up a problem: Can we predict 'callSign' using these three features:  'Depth', 'Temperature', 'Salinity' ?"
   ]
  },
  {
   "cell_type": "code",
   "execution_count": null,
   "metadata": {},
   "outputs": [],
   "source": [
    "print('Reading list of problem variables X and Y...')\n",
    "X_name = [ 'Depth', 'Temperature', 'Salinity' ] # columns to focus on as predictors\n",
    "X = dataset[X_name]   # only keep these columns as features\n",
    "y_name = 'callSign'     # column to focus on as target\n",
    "y = dataset[y_name]   # only keep this column as label \n",
    "print('done \\n')"
   ]
  },
  {
   "cell_type": "code",
   "execution_count": null,
   "metadata": {},
   "outputs": [],
   "source": [
    "# Spot checks for X:\n",
    "\n",
    "print('Sample rows from X (top and bottom):')\n",
    "display(X.head(3))\n",
    "display(X.tail(3))\n",
    "print('\\n')\n",
    "\n",
    "print('Statistical summary of X:')\n",
    "display(X.describe())\n",
    "print('\\n')"
   ]
  },
  {
   "cell_type": "code",
   "execution_count": null,
   "metadata": {
    "scrolled": true
   },
   "outputs": [],
   "source": [
    "# Let's look at some graphical summaries\n",
    "\n",
    "%matplotlib inline\n",
    "import matplotlib.pyplot as pl  # https://matplotlib.org/\n",
    "\n",
    "print('Summary of X - Univariate graphs')\n",
    "print()\n",
    "\n",
    "print('Histograms:')\n",
    "X.hist(figsize=(15, 5), bins=75)  # bins ~= sqrt(N)\n",
    "pl.show()\n",
    "\n",
    "print('Box plots:')\n",
    "X.plot(figsize=(15, 5), kind='box', subplots=True, sharex=False, sharey=False)\n",
    "pl.show()"
   ]
  },
  {
   "cell_type": "code",
   "execution_count": null,
   "metadata": {},
   "outputs": [],
   "source": [
    "# More graphical summaries\n",
    "\n",
    "import seaborn as sns   # https://seaborn.pydata.org/\n",
    "\n",
    "print('Summary of X - Bivariate (column-pair) graphs:')\n",
    "\n",
    "print('Correlation matrix:')\n",
    "corr = X.corr()\n",
    "sns.heatmap( corr, cmap='coolwarm', vmax=1.0, vmin=-1.0 );\n",
    "pl.show()\n",
    "\n",
    "print('Scatter plots:')\n",
    "scatter_matrix(X, figsize=(16, 16))\n",
    "pl.show()"
   ]
  },
  {
   "cell_type": "code",
   "execution_count": null,
   "metadata": {},
   "outputs": [],
   "source": [
    "# Spot checks for y:\n",
    "\n",
    "print('Summary of y:')\n",
    "display(y.value_counts())"
   ]
  },
  {
   "cell_type": "code",
   "execution_count": null,
   "metadata": {},
   "outputs": [],
   "source": [
    "# Time for ML\n",
    "\n",
    "# Split data into training and testing datasets\n",
    "from sklearn import model_selection\n",
    "\n",
    "test_pct = 0.20   # reserve 20% of the data points for testing performance\n",
    "seed = 7          # specifying the seed allows for repeatability\n",
    "X_train, X_test, y_train, y_test = model_selection.train_test_split(X, y, test_size=test_pct, random_state=seed)\n",
    "print('done with setting aside data for testing')"
   ]
  },
  {
   "cell_type": "code",
   "execution_count": null,
   "metadata": {},
   "outputs": [],
   "source": [
    "# Now train the model on the data \n",
    "\n",
    "# algorithms\n",
    "from sklearn.linear_model import LogisticRegression\n",
    "\n",
    "print('training model...')\n",
    "modelName = LogisticRegression(solver='liblinear')\n",
    "modelName.fit(X_train, y_train)  # train the model on the training data\n",
    "print('done with training the model')"
   ]
  },
  {
   "cell_type": "code",
   "execution_count": null,
   "metadata": {},
   "outputs": [],
   "source": [
    "# How does the model do with predictions? \n",
    "\n",
    "# Let's compute its accuracy on the data we set aside.\n",
    "from sklearn.metrics import accuracy_score\n",
    "\n",
    "print('computing accuracy...')\n",
    "y_predicted = modelName.predict(X_test)  # make predictions using the validation data \n",
    "print('Accuracy:', accuracy_score(y_test, y_predicted))"
   ]
  },
  {
   "cell_type": "code",
   "execution_count": null,
   "metadata": {},
   "outputs": [],
   "source": []
  }
 ],
 "metadata": {
  "kernelspec": {
   "display_name": "Python 3",
   "language": "python",
   "name": "python3"
  },
  "language_info": {
   "codemirror_mode": {
    "name": "ipython",
    "version": 3
   },
   "file_extension": ".py",
   "mimetype": "text/x-python",
   "name": "python",
   "nbconvert_exporter": "python",
   "pygments_lexer": "ipython3",
   "version": "3.6.13"
  },
  "toc": {
   "base_numbering": 1,
   "nav_menu": {},
   "number_sections": true,
   "sideBar": true,
   "skip_h1_title": false,
   "title_cell": "Table of Contents",
   "title_sidebar": "Contents",
   "toc_cell": false,
   "toc_position": {},
   "toc_section_display": true,
   "toc_window_display": false
  }
 },
 "nbformat": 4,
 "nbformat_minor": 4
}
