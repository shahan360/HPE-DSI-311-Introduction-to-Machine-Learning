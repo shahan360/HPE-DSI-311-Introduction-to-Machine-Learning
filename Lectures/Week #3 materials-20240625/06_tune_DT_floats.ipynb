{
 "cells": [
  {
   "cell_type": "code",
   "execution_count": null,
   "metadata": {},
   "outputs": [],
   "source": [
    "# Import libraries\n",
    "\n",
    "# First, let’s import all of the modules, functions and objects we are going to use in this tutorial.\n",
    "\n",
    "# Pandas for data handling\n",
    "import pandas # https://pandas.pydata.org/\n",
    "\n",
    "# NumPy for numerical computing\n",
    "import numpy as np # https://numpy.org/\n",
    "\n",
    "# MatPlotLib for visualization\n",
    "import matplotlib.pyplot as pl  # https://matplotlib.org/\n",
    "\n",
    "# assessment\n",
    "from sklearn import model_selection # for model comparisons\n",
    "from sklearn.model_selection import GridSearchCV\n",
    "from sklearn.metrics import classification_report\n",
    "\n",
    "# algorithms\n",
    "from sklearn import tree\n",
    "from sklearn.tree import DecisionTreeClassifier"
   ]
  },
  {
   "cell_type": "code",
   "execution_count": null,
   "metadata": {},
   "outputs": [],
   "source": [
    "# Let's set up our standard example problem: \n",
    "# Can we predict 'callSign' using these three features:  'Depth', 'Temperature', 'Salinity' ?\n",
    "\n",
    "# Load the data\n",
    "print('Loading data from file ...')  \n",
    "dataset = pandas.read_csv('floats.csv')\n",
    "print('Removing rows with missing data ...')  \n",
    "dataset = dataset.dropna()\n",
    "print('Reading list of problem variables X and y...')\n",
    "X_name = [ 'Depth', 'Temperature', 'Salinity' ] \n",
    "y_name = 'callSign'\n",
    "X = dataset[X_name]   \n",
    "y = dataset[y_name]   \n",
    "\n",
    "# setting the seed allows for repeatability\n",
    "seed = 42 \n",
    "\n",
    "print('Partitioning data into parts: formative (for development) and summative (for testing) ...')\n",
    "test_size = 0.20   # means 20 percent\n",
    "X_train, X_test, y_train, y_test = model_selection.train_test_split(X, y, test_size=test_size, random_state=seed)\n",
    "\n",
    "print('done \\n')"
   ]
  },
  {
   "cell_type": "code",
   "execution_count": null,
   "metadata": {},
   "outputs": [],
   "source": [
    "# Chose the formative scoring method\n",
    "scoring = 'f1_micro'"
   ]
  },
  {
   "cell_type": "code",
   "execution_count": null,
   "metadata": {},
   "outputs": [],
   "source": [
    "# Chose the Algorithm and tune some hyperparameters\n",
    "\n",
    "selected_model = DecisionTreeClassifier()\n",
    "hyperparameters = {'max_depth':[4, 5, 6, 7], 'criterion':['gini', 'entropy'] }\n",
    "\n",
    "print(\"Now tuning hyperparameters...\")\n",
    "clf = GridSearchCV(selected_model, hyperparameters, cv=5, scoring=scoring, verbose=4)\n",
    "clf.fit(X_train, y_train)\n",
    "\n",
    "print(\"Best hyperparameters found on development set:\")\n",
    "print(clf.best_params_)\n",
    "print(\"Grid scores on development set:\")\n",
    "means = clf.cv_results_['mean_test_score']\n",
    "stds = clf.cv_results_['std_test_score']\n",
    "for mean, std, params in zip(means, stds, clf.cv_results_['params']):\n",
    "    print(\"%0.3f (+/-%0.03f) for %r\"\n",
    "        % (mean, std * 2, params))\n",
    "print('done \\n')\n",
    "\n",
    "tuned_model = clf.best_estimator_"
   ]
  },
  {
   "cell_type": "code",
   "execution_count": null,
   "metadata": {},
   "outputs": [],
   "source": [
    "print(\"Now testing the tuned model on the separate test set...\")\n",
    "print(\"Detailed classification report:\")\n",
    "print('\\n')\n",
    "y_true, y_pred = y_test, tuned_model.predict(X_test)\n",
    "print(classification_report(y_true, y_pred))\n",
    "print('done \\n')\n",
    "\n",
    "print(f'Tuned decision tree has {tuned_model.tree_.node_count} nodes with maximum depth {tuned_model.tree_.max_depth}.')"
   ]
  },
  {
   "cell_type": "code",
   "execution_count": null,
   "metadata": {},
   "outputs": [],
   "source": [
    "# Compare to the default, unrestricted tree\n",
    "\n",
    "estimator = DecisionTreeClassifier()\n",
    "estimator.fit(X_train, y_train)\n",
    "print(f'Default Decision tree has {estimator.tree_.node_count} nodes with maximum depth {estimator.tree_.max_depth}.')\n",
    "print(\"Detailed classification report:\")\n",
    "print('\\n')\n",
    "y_true, y_pred = y_test, estimator.predict(X_test)\n",
    "print(classification_report(y_true, y_pred))\n",
    "print('done \\n')"
   ]
  },
  {
   "cell_type": "code",
   "execution_count": null,
   "metadata": {},
   "outputs": [],
   "source": []
  }
 ],
 "metadata": {
  "kernelspec": {
   "display_name": "Python 3.8",
   "language": "python",
   "name": "python3.8"
  },
  "language_info": {
   "codemirror_mode": {
    "name": "ipython",
    "version": 3
   },
   "file_extension": ".py",
   "mimetype": "text/x-python",
   "name": "python",
   "nbconvert_exporter": "python",
   "pygments_lexer": "ipython3",
   "version": "3.8.13"
  },
  "toc": {
   "base_numbering": 1,
   "nav_menu": {},
   "number_sections": true,
   "sideBar": true,
   "skip_h1_title": false,
   "title_cell": "Table of Contents",
   "title_sidebar": "Contents",
   "toc_cell": false,
   "toc_position": {},
   "toc_section_display": true,
   "toc_window_display": false
  }
 },
 "nbformat": 4,
 "nbformat_minor": 4
}
